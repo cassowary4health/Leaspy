{
 "metadata": {
  "language_info": {
   "codemirror_mode": {
    "name": "ipython",
    "version": 3
   },
   "file_extension": ".py",
   "mimetype": "text/x-python",
   "name": "python",
   "nbconvert_exporter": "python",
   "pygments_lexer": "ipython3",
   "version": "3.7.10"
  },
  "orig_nbformat": 2,
  "kernelspec": {
   "name": "python3",
   "display_name": "Python 3",
   "language": "python"
  }
 },
 "nbformat": 4,
 "nbformat_minor": 2,
 "cells": [
  {
   "cell_type": "code",
   "execution_count": 1,
   "metadata": {},
   "outputs": [],
   "source": [
    "import numpy as np\n",
    "import pandas as pd\n",
    "import torch\n",
    "from scipy.stats import norm\n",
    "import matplotlib.pyplot as plt\n",
    "%matplotlib inline\n",
    "import seaborn as sns\n",
    "\n",
    "\n",
    "import sys, os\n",
    "\n",
    "\n",
    "os.chdir(\"/Users/samuel.gruffaz/Documents/PEcollab\")\n",
    "\n",
    "from leaspy.api import Leaspy\n",
    "\n",
    "from leaspy import Leaspy, Data, AlgorithmSettings, Plotter, Dataset, IndividualParameters\n",
    "from leaspy.models.utils.attributes.attributes_factory import AttributesFactory\n",
    "from leaspy.algo.algo_factory import AlgoFactory\n",
    "from leaspy.utils.visualisation.visual_update_b import *"
   ]
  },
  {
   "source": [
    "max benton 30\n",
    "HVLT 60 MOCA 30 SCOPA-AUT 73 ADL 100\n"
   ],
   "cell_type": "markdown",
   "metadata": {}
  },
  {
   "cell_type": "code",
   "execution_count": 22,
   "metadata": {},
   "outputs": [
    {
     "output_type": "stream",
     "name": "stdout",
     "text": [
      "(4262, 4)\n"
     ]
    }
   ],
   "source": [
    "os.chdir(\"/Users/samuel.gruffaz/Documents/data\")\n",
    "df = pd.read_csv(\"TAD_ADAS_VEN_HIPP_ENTHORINAL.csv\", dtype={'ID':str})\n",
    "df.set_index(['ID','TIME'], inplace=True)\n",
    "os.chdir(\"/Users/samuel.gruffaz/Leaspype_kernel\")\n",
    "\n",
    "print(df.shape)"
   ]
  },
  {
   "cell_type": "code",
   "execution_count": 2,
   "metadata": {},
   "outputs": [
    {
     "output_type": "stream",
     "name": "stdout",
     "text": [
      "            Phase VISCODE2    EXAMDATE  YEARS_SINCE_bl  DX_seq  DX_ffill  \\\nID TIME                                                                    \n2  74.300   ADNI1       bl  2005-09-08        0.000000      10       0.0   \n   74.790   ADNI1      m06  2006-03-06        0.490075      10       0.0   \n   77.268   ADNI1      m36  2008-08-27        2.967830      10       0.0   \n   79.338  ADNIGO      m60  2010-09-22        5.037650      10       0.0   \n   80.329   ADNI2      m72  2011-09-19        6.028750      10       0.0   \n\n           SITEID   DX  DX_change DX_full_bl  ...  MES_MRI_MIDTEMPORAL_ICV  \\\nID TIME                                       ...                            \n2  74.300      11  0.0        1.0         CN  ...                 0.355949   \n   74.790      11  0.0        1.0         CN  ...                      NaN   \n   77.268      11  0.0        1.0         CN  ...                      NaN   \n   79.338      11  0.0        1.0         CN  ...                      NaN   \n   80.329      11  0.0        1.0         CN  ...                      NaN   \n\n          MES_MRI_VENTRICLES_ICV MES_PET_AV45_CORTICAL_AVG_WC MES_PET_FDG_AVG  \\\nID TIME                                                                         \n2  74.300               0.846768                          NaN        0.323322   \n   74.790                    NaN                          NaN        0.488316   \n   77.268                    NaN                          NaN             NaN   \n   79.338                    NaN                          NaN             NaN   \n   80.329                    NaN                          NaN             NaN   \n\n           MES_CSF_TTAU MES_CSF_PTAU  MES_CSF_PTAU_TTAU  MES_CSF_ABETA42  \\\nID TIME                                                                    \n2  74.300           NaN          NaN                NaN              NaN   \n   74.790           NaN          NaN                NaN              NaN   \n   77.268           NaN          NaN                NaN              NaN   \n   79.338           NaN          NaN                NaN              NaN   \n   80.329           NaN          NaN                NaN              NaN   \n\n           MES_CSF_TTAU_ABETA42  MES_CSF_PTAU_ABETA42  \nID TIME                                                \n2  74.300                   NaN                   NaN  \n   74.790                   NaN                   NaN  \n   77.268                   NaN                   NaN  \n   79.338                   NaN                   NaN  \n   80.329                   NaN                   NaN  \n\n[5 rows x 61 columns]\n"
     ]
    }
   ],
   "source": [
    "os.chdir(\"/Users/samuel.gruffaz/Documents/data\")\n",
    "dtadpole=pd.read_csv(\"TADPOLE_D1_bio_TD1_norm.csv\", sep=\";\")\n",
    "dtadpole.rename(columns={\"RID\":\"ID\", \"AGE_vis\":\"TIME\"}, inplace=True)\n",
    "dtadpole.set_index([\"ID\", \"TIME\"], inplace=True)\n",
    "print(dtadpole.head(5))"
   ]
  },
  {
   "cell_type": "code",
   "execution_count": null,
   "metadata": {},
   "outputs": [],
   "source": [
    "TADPOLE_FTS = {'ADAS_TOT13': 'ADAS13', \n",
    "               'MMSE_TOT': 'MMSE', \n",
    "               'MES_MRI_VENTRICLES_ICV': 'Ventricles_ICV',\n",
    "               'MES_MRI_HIPPOCAMPUS_ICV': 'Hippocampi_ICV',\n",
    "               'MES_PET_FDG_AVG': 'FDG',\n",
    "              }"
   ]
  },
  {
   "cell_type": "code",
   "execution_count": 79,
   "metadata": {},
   "outputs": [
    {
     "output_type": "stream",
     "name": "stdout",
     "text": [
      "(1217, 3)\n(732, 3)\n"
     ]
    }
   ],
   "source": [
    "dtadpole[\"DX_seq\"].astype(str).str.contains(\"2\")\n",
    "alz_index = dtadpole[\"DX_seq\"]==2\n",
    "\n",
    "tad=dtadpole[alz_index]\n",
    "tad1=tad[[\"MMSE_TOT\",  \"MES_MRI_HIPPOCAMPUS_ICV\", \"MES_MRI_VENTRICLES_ICV\"\n",
    "            ] ]\n",
    "print(tad1.shape)\n",
    "tad2=tad1.dropna()\n",
    "print(tad2.shape)"
   ]
  },
  {
   "cell_type": "code",
   "execution_count": 61,
   "metadata": {},
   "outputs": [],
   "source": [
    "\n",
    "os.chdir(\"/Users/samuel.gruffaz/Documents/data\")\n",
    "\n",
    "dHVLT=pd.read_csv(\"HVLT.csv\").set_index(['ID', 'TIME'])\n",
    "dMOCA=pd.read_csv(\"MOCA.csv\").set_index(['ID', 'TIME'])\n",
    "dSCOPAAUT=pd.read_csv(\"SCOPA-AUT.csv\").set_index(['ID', 'TIME'])\n",
    "dBenton=pd.read_csv(\"Benton_JLO.csv\").set_index(['ID', 'TIME'])\n",
    "dADL=pd.read_csv(\"Schwab_and_England_ADL.csv\").set_index(['ID', 'TIME'])"
   ]
  },
  {
   "cell_type": "code",
   "execution_count": 62,
   "metadata": {},
   "outputs": [
    {
     "output_type": "stream",
     "name": "stdout",
     "text": [
      "Index(['HVLT_TOTAL', 'HVLT_1', 'HVLT_2', 'HVLT_3', 'HVLT_4', 'HVLT_5'], dtype='object')\nIndex(['MOCA_TOTAL'], dtype='object')\nIndex(['SCOPA_TOTAL', 'SCOPA_1', 'SCOPA_2', 'SCOPA_3', 'SCOPA_4', 'SCOPA_5',\n       'SCOPA_6', 'SCOPA_7', 'SCOPA_8', 'SCOPA_9', 'SCOPA_10', 'SCOPA_11',\n       'SCOPA_12', 'SCOPA_13', 'SCOPA_14', 'SCOPA_15', 'SCOPA_16', 'SCOPA_17',\n       'SCOPA_18', 'SCOPA_19', 'SCOPA_20', 'SCOPA_21', 'SCOPA_22', 'SCOPA_23',\n       'SCOPA_24', 'SCOPA_25', 'SCOPA_26'],\n      dtype='object')\nIndex(['BENTON_JLO'], dtype='object')\nIndex(['SCHWAB_AND_ENGLAND'], dtype='object')\n"
     ]
    }
   ],
   "source": [
    "print(dHVLT.columns)\n",
    "print(dMOCA.columns)\n",
    "print(dSCOPAAUT.columns)\n",
    "print(dBenton.columns)\n",
    "print(dADL.columns)\n",
    "dADL['SCHWAB_AND_ENGLAND']=1-dADL['SCHWAB_AND_ENGLAND']/100.\n",
    "dBenton['BENTON_JLO']=1-dBenton['BENTON_JLO']/30.\n",
    "dMOCA['MOCA_TOTAL']=1-dMOCA['MOCA_TOTAL']/30.\n",
    "dHVLT['HVLT_TOTAL']=1-dHVLT['HVLT_TOTAL']/60.\n",
    "dSCOPAAUT['SCOPA_TOTAL']=dSCOPAAUT['SCOPA_TOTAL']/73.0"
   ]
  },
  {
   "cell_type": "code",
   "execution_count": 63,
   "metadata": {},
   "outputs": [],
   "source": [
    "dHVLTtot=dHVLT.drop(['HVLT_1', 'HVLT_2', 'HVLT_3', 'HVLT_4',\n",
    "       'HVLT_5'],axis=1)\n",
    "dSCOPAAUTtot=dSCOPAAUT.drop(['SCOPA_1', 'SCOPA_2', 'SCOPA_3', 'SCOPA_4',\n",
    "       'SCOPA_5', 'SCOPA_6', 'SCOPA_7', 'SCOPA_8', 'SCOPA_9', 'SCOPA_10',\n",
    "       'SCOPA_11', 'SCOPA_12', 'SCOPA_13', 'SCOPA_14', 'SCOPA_15', 'SCOPA_16',\n",
    "       'SCOPA_17', 'SCOPA_18', 'SCOPA_19', 'SCOPA_20', 'SCOPA_21', 'SCOPA_22',\n",
    "       'SCOPA_23', 'SCOPA_24', 'SCOPA_25', 'SCOPA_26'],axis=1)\n"
   ]
  },
  {
   "cell_type": "code",
   "execution_count": 64,
   "metadata": {},
   "outputs": [
    {
     "output_type": "stream",
     "name": "stdout",
     "text": [
      "                SCOPA_TOTAL\nID   TIME                  \n3000 70.123631     0.082192\n     71.123631     0.123288\n     72.123631     0.123288\n     73.123631     0.109589\n     74.123631     0.164384\n                BENTON_JLO\nID   TIME                 \n3000 70.123631    0.000000\n     71.123631    0.000000\n     72.123631    0.066667\n     73.123631    0.133333\n     74.123631    0.066667\n                HVLT_TOTAL  HVLT_1  HVLT_2  HVLT_3  HVLT_4  HVLT_5\nID   TIME                                                         \n3000 70.123631    0.133333     8.0    11.0    11.0    10.0    12.0\n     71.123631    0.216667     7.0     9.0    10.0    10.0    11.0\n     72.123631    0.166667     6.0    11.0    11.0    10.0    12.0\n     73.123631    0.150000     7.0    10.0    11.0    11.0    12.0\n     74.123631    0.133333     8.0    12.0    10.0    10.0    12.0\n     75.123631    0.166667     9.0    10.0    10.0    10.0    11.0\n     77.123631         NaN     5.0    10.0    11.0    10.0     NaN\n     78.123631    0.233333     7.0    10.0    11.0     7.0    11.0\n3001 65.209189    0.150000     9.0    10.0     8.0    12.0    12.0\n     66.209189    0.200000     6.0     9.0    11.0    10.0    12.0\n                MOCA_TOTAL\nID   TIME                 \n3000 69.998631    0.100000\n     71.123631    0.033333\n     72.123631    0.066667\n     73.123631    0.000000\n     74.123631    0.033333\n     75.123631    0.100000\n     77.123631    0.133333\n     78.123631    0.066667\n3001 65.084189    0.033333\n     66.209189    0.000000\n     67.209189    0.000000\n     68.209189    0.033333\n     69.209189    0.033333\n     70.209189    0.033333\n     72.209189    0.000000\n     73.209189    0.000000\n3002 68.161533    0.033333\n     69.286533    0.033333\n     70.286533    0.033333\n     71.286533    0.100000\n     72.286533    0.200000\n     73.286533    0.100000\n     75.286533    0.133333\n     76.286533    0.066667\n3003 57.160849    0.166667\n     58.285849    0.066667\n     59.285849    0.100000\n     60.285849    0.100000\n     61.285849    0.066667\n     62.285849    0.100000\n                SCHWAB_AND_ENGLAND\nID   TIME                         \n3001 65.084189                0.05\n     65.209189                0.05\n     65.459189                0.05\n     65.709189                0.05\n     65.959189                0.10\n     66.209189                0.05\n     66.709189                0.05\n     67.209189                0.05\n     67.709189                0.05\n     68.209189                0.05\n     68.709189                0.15\n     69.209189                0.10\n     69.709189                0.05\n     70.209189                0.10\n     72.209189                0.10\n     73.209189                0.15\n3002 68.161533                0.20\n     68.286533                0.20\n     68.536533                0.10\n     69.036533                0.15\n     69.286533                0.10\n     69.786533                0.10\n     70.286533                0.20\n     70.786533                0.15\n     71.286533                0.20\n     71.786533                0.20\n     72.286533                0.20\n     72.786533                0.20\n     73.286533                0.15\n     75.286533                0.25\n"
     ]
    }
   ],
   "source": [
    "print(dSCOPAAUTtot.head(5))\n",
    "print(dBenton.head(5))\n",
    "print(dHVLT.head(10))\n",
    "print(dMOCA.head(30))\n",
    "print(dADL.head(30))"
   ]
  },
  {
   "cell_type": "code",
   "execution_count": 65,
   "metadata": {},
   "outputs": [],
   "source": [
    "dJoin=dHVLTtot.join(dSCOPAAUTtot,on=['ID','TIME'])\n",
    "dJoin1=dJoin.join(dMOCA,on=['ID','TIME'])\n",
    "dJoin2=dJoin1.join(dBenton,on=['ID','TIME'])\n",
    "dJoin3=dJoin2.join(dADL,on=['ID','TIME'])"
   ]
  },
  {
   "cell_type": "code",
   "execution_count": null,
   "metadata": {},
   "outputs": [],
   "source": [
    "df = df.set_index(['ID', 'TIME'])\n",
    "indices = [idx for idx in df.index.unique('ID') if df.loc[idx].shape[0] >= 2]\n",
    "df = df[df.index.get_level_values(0).isin(indices)]"
   ]
  },
  {
   "cell_type": "code",
   "execution_count": 38,
   "metadata": {},
   "outputs": [
    {
     "output_type": "stream",
     "name": "stdout",
     "text": [
      "                HVLT_TOTAL  SCOPA_TOTAL  MOCA_TOTAL  BENTON_JLO  \\\nID   TIME                                                         \n3000 70.123631    0.866667     0.082192         NaN    1.000000   \n     71.123631    0.783333     0.123288    0.966667    1.000000   \n     72.123631    0.833333     0.123288    0.933333    0.933333   \n     73.123631    0.850000     0.109589    1.000000    0.866667   \n\n                SCHWAB_AND_ENGLAND  \nID   TIME                           \n3000 70.123631                 NaN  \n     71.123631                 NaN  \n     72.123631                 NaN  \n     73.123631                 NaN  \n"
     ]
    }
   ],
   "source": [
    "print(dJoin3.head(4))"
   ]
  },
  {
   "cell_type": "code",
   "execution_count": 45,
   "metadata": {},
   "outputs": [
    {
     "output_type": "stream",
     "name": "stdout",
     "text": [
      "(6915, 5)\n"
     ]
    }
   ],
   "source": [
    "print(dJoin3.shape)"
   ]
  },
  {
   "cell_type": "code",
   "execution_count": 66,
   "metadata": {},
   "outputs": [],
   "source": [
    "dJoinDropNan=dJoin3.dropna()"
   ]
  },
  {
   "cell_type": "code",
   "execution_count": 44,
   "metadata": {},
   "outputs": [
    {
     "output_type": "stream",
     "name": "stdout",
     "text": [
      "(3301, 5)\n"
     ]
    }
   ],
   "source": [
    "print(dJoinDropNan.shape)"
   ]
  },
  {
   "cell_type": "code",
   "execution_count": 67,
   "metadata": {},
   "outputs": [],
   "source": [
    "dJoinDropNan.to_csv(\"Join5score.csv\")"
   ]
  },
  {
   "cell_type": "code",
   "execution_count": 36,
   "metadata": {},
   "outputs": [],
   "source": [
    "os.chdir(\"/Users/samuel.gruffaz/Documents/data\")\n",
    "\n",
    "\n",
    "dADNI=pd.read_csv(\"ADNI_norm.csv\", sep=\";\")"
   ]
  },
  {
   "cell_type": "code",
   "execution_count": 37,
   "metadata": {},
   "outputs": [
    {
     "output_type": "stream",
     "name": "stdout",
     "text": [
      "(13226, 364)\n"
     ]
    }
   ],
   "source": [
    "dADNI.rename(columns={\"RID\":\"ID\", \"AGE_vis\":\"TIME\"}, inplace=True)\n",
    "dADNI.set_index([\"ID\", \"TIME\"], inplace=True)\n",
    "print(dADNI.shape)"
   ]
  },
  {
   "cell_type": "code",
   "execution_count": 41,
   "metadata": {
    "tags": []
   },
   "outputs": [
    {
     "output_type": "stream",
     "name": "stdout",
     "text": [
      "            Phase VISCODE2    EXAMDATE  YEARS_SINCE_bl  DX_seq  DX_ffill  \\\nID TIME                                                                    \n2  74.300   ADNI1       bl  2005-09-08        0.000000     101       0.0   \n   74.790   ADNI1      m06  2006-03-06        0.490075     101       0.0   \n   77.268   ADNI1      m36  2008-08-27        2.967830     101       0.0   \n   79.338  ADNIGO      m60  2010-09-22        5.037650     101       0.0   \n   80.329   ADNI2      m72  2011-09-19        6.028750     101       0.0   \n\n           MES_PET_AV1451_INFCEREBGM_REF_SUVR  MES_PET_AV1451_L_ENT_SUVR  \\\nID TIME                                                                    \n2  74.300                                 NaN                        NaN   \n   74.790                                 NaN                        NaN   \n   77.268                                 NaN                        NaN   \n   79.338                                 NaN                        NaN   \n   80.329                                 NaN                        NaN   \n\n           MES_PET_AV1451_L_ENT_VOL  MES_PET_AV1451_R_ENT_SUVR  ...  \\\nID TIME                                                         ...   \n2  74.300                       NaN                        NaN  ...   \n   74.790                       NaN                        NaN  ...   \n   77.268                       NaN                        NaN  ...   \n   79.338                       NaN                        NaN  ...   \n   80.329                       NaN                        NaN  ...   \n\n           MES_PET_FDG_AVG_TEMPORAL  MES_PET_FDG_AVG  MES_CSF_TTAU  \\\nID TIME                                                              \n2  74.300                  0.347655         0.309763           NaN   \n   74.790                  0.571347         0.484737           NaN   \n   77.268                       NaN              NaN           NaN   \n   79.338                       NaN              NaN           NaN   \n   80.329                       NaN              NaN           NaN   \n\n           MES_CSF_PTAU  MES_CSF_PTAU_TTAU  MES_CSF_ABETA42  \\\nID TIME                                                       \n2  74.300           NaN                NaN              NaN   \n   74.790           NaN                NaN              NaN   \n   77.268           NaN                NaN              NaN   \n   79.338           NaN                NaN              NaN   \n   80.329           NaN                NaN              NaN   \n\n           MES_CSF_TTAU_ABETA42  MES_CSF_PTAU_ABETA42  MES_CSF_ABETA40  \\\nID TIME                                                                  \n2  74.300                   NaN                   NaN              NaN   \n   74.790                   NaN                   NaN              NaN   \n   77.268                   NaN                   NaN              NaN   \n   79.338                   NaN                   NaN              NaN   \n   80.329                   NaN                   NaN              NaN   \n\n           MES_CSF_ABETA42_40  \nID TIME                        \n2  74.300                 NaN  \n   74.790                 NaN  \n   77.268                 NaN  \n   79.338                 NaN  \n   80.329                 NaN  \n\n[5 rows x 364 columns]\n"
     ]
    }
   ],
   "source": [
    "print(dADNI.head(5))"
   ]
  },
  {
   "cell_type": "code",
   "execution_count": 16,
   "metadata": {},
   "outputs": [
    {
     "output_type": "stream",
     "name": "stdout",
     "text": [
      "(13226, 1)\n"
     ]
    }
   ],
   "source": [
    "print(dADNI.shape)"
   ]
  },
  {
   "cell_type": "code",
   "execution_count": 30,
   "metadata": {},
   "outputs": [
    {
     "output_type": "error",
     "ename": "KeyError",
     "evalue": "'DX_seq'",
     "traceback": [
      "\u001b[0;31m---------------------------------------------------------------------------\u001b[0m",
      "\u001b[0;31mKeyError\u001b[0m                                  Traceback (most recent call last)",
      "\u001b[0;32m/opt/anaconda3/envs/leaspy/lib/python3.7/site-packages/pandas/core/indexes/base.py\u001b[0m in \u001b[0;36mget_loc\u001b[0;34m(self, key, method, tolerance)\u001b[0m\n\u001b[1;32m   3079\u001b[0m             \u001b[0;32mtry\u001b[0m\u001b[0;34m:\u001b[0m\u001b[0;34m\u001b[0m\u001b[0;34m\u001b[0m\u001b[0m\n\u001b[0;32m-> 3080\u001b[0;31m                 \u001b[0;32mreturn\u001b[0m \u001b[0mself\u001b[0m\u001b[0;34m.\u001b[0m\u001b[0m_engine\u001b[0m\u001b[0;34m.\u001b[0m\u001b[0mget_loc\u001b[0m\u001b[0;34m(\u001b[0m\u001b[0mcasted_key\u001b[0m\u001b[0;34m)\u001b[0m\u001b[0;34m\u001b[0m\u001b[0;34m\u001b[0m\u001b[0m\n\u001b[0m\u001b[1;32m   3081\u001b[0m             \u001b[0;32mexcept\u001b[0m \u001b[0mKeyError\u001b[0m \u001b[0;32mas\u001b[0m \u001b[0merr\u001b[0m\u001b[0;34m:\u001b[0m\u001b[0;34m\u001b[0m\u001b[0;34m\u001b[0m\u001b[0m\n",
      "\u001b[0;32mpandas/_libs/index.pyx\u001b[0m in \u001b[0;36mpandas._libs.index.IndexEngine.get_loc\u001b[0;34m()\u001b[0m\n",
      "\u001b[0;32mpandas/_libs/index.pyx\u001b[0m in \u001b[0;36mpandas._libs.index.IndexEngine.get_loc\u001b[0;34m()\u001b[0m\n",
      "\u001b[0;32mpandas/_libs/hashtable_class_helper.pxi\u001b[0m in \u001b[0;36mpandas._libs.hashtable.PyObjectHashTable.get_item\u001b[0;34m()\u001b[0m\n",
      "\u001b[0;32mpandas/_libs/hashtable_class_helper.pxi\u001b[0m in \u001b[0;36mpandas._libs.hashtable.PyObjectHashTable.get_item\u001b[0;34m()\u001b[0m\n",
      "\u001b[0;31mKeyError\u001b[0m: 'DX_seq'",
      "\nThe above exception was the direct cause of the following exception:\n",
      "\u001b[0;31mKeyError\u001b[0m                                  Traceback (most recent call last)",
      "\u001b[0;32m<ipython-input-30-1ac8cb47cb44>\u001b[0m in \u001b[0;36m<module>\u001b[0;34m\u001b[0m\n\u001b[0;32m----> 1\u001b[0;31m \u001b[0mprint\u001b[0m\u001b[0;34m(\u001b[0m\u001b[0mdADNI\u001b[0m\u001b[0;34m.\u001b[0m\u001b[0mloc\u001b[0m\u001b[0;34m[\u001b[0m\u001b[0;36m3\u001b[0m\u001b[0;34m]\u001b[0m\u001b[0;34m[\u001b[0m\u001b[0;34m\"DX_seq\"\u001b[0m\u001b[0;34m]\u001b[0m\u001b[0;34m)\u001b[0m\u001b[0;34m\u001b[0m\u001b[0;34m\u001b[0m\u001b[0m\n\u001b[0m",
      "\u001b[0;32m/opt/anaconda3/envs/leaspy/lib/python3.7/site-packages/pandas/core/series.py\u001b[0m in \u001b[0;36m__getitem__\u001b[0;34m(self, key)\u001b[0m\n\u001b[1;32m    851\u001b[0m \u001b[0;34m\u001b[0m\u001b[0m\n\u001b[1;32m    852\u001b[0m         \u001b[0;32melif\u001b[0m \u001b[0mkey_is_scalar\u001b[0m\u001b[0;34m:\u001b[0m\u001b[0;34m\u001b[0m\u001b[0;34m\u001b[0m\u001b[0m\n\u001b[0;32m--> 853\u001b[0;31m             \u001b[0;32mreturn\u001b[0m \u001b[0mself\u001b[0m\u001b[0;34m.\u001b[0m\u001b[0m_get_value\u001b[0m\u001b[0;34m(\u001b[0m\u001b[0mkey\u001b[0m\u001b[0;34m)\u001b[0m\u001b[0;34m\u001b[0m\u001b[0;34m\u001b[0m\u001b[0m\n\u001b[0m\u001b[1;32m    854\u001b[0m \u001b[0;34m\u001b[0m\u001b[0m\n\u001b[1;32m    855\u001b[0m         \u001b[0;32mif\u001b[0m \u001b[0mis_hashable\u001b[0m\u001b[0;34m(\u001b[0m\u001b[0mkey\u001b[0m\u001b[0;34m)\u001b[0m\u001b[0;34m:\u001b[0m\u001b[0;34m\u001b[0m\u001b[0;34m\u001b[0m\u001b[0m\n",
      "\u001b[0;32m/opt/anaconda3/envs/leaspy/lib/python3.7/site-packages/pandas/core/series.py\u001b[0m in \u001b[0;36m_get_value\u001b[0;34m(self, label, takeable)\u001b[0m\n\u001b[1;32m    959\u001b[0m \u001b[0;34m\u001b[0m\u001b[0m\n\u001b[1;32m    960\u001b[0m         \u001b[0;31m# Similar to Index.get_value, but we do not fall back to positional\u001b[0m\u001b[0;34m\u001b[0m\u001b[0;34m\u001b[0m\u001b[0;34m\u001b[0m\u001b[0m\n\u001b[0;32m--> 961\u001b[0;31m         \u001b[0mloc\u001b[0m \u001b[0;34m=\u001b[0m \u001b[0mself\u001b[0m\u001b[0;34m.\u001b[0m\u001b[0mindex\u001b[0m\u001b[0;34m.\u001b[0m\u001b[0mget_loc\u001b[0m\u001b[0;34m(\u001b[0m\u001b[0mlabel\u001b[0m\u001b[0;34m)\u001b[0m\u001b[0;34m\u001b[0m\u001b[0;34m\u001b[0m\u001b[0m\n\u001b[0m\u001b[1;32m    962\u001b[0m         \u001b[0;32mreturn\u001b[0m \u001b[0mself\u001b[0m\u001b[0;34m.\u001b[0m\u001b[0mindex\u001b[0m\u001b[0;34m.\u001b[0m\u001b[0m_get_values_for_loc\u001b[0m\u001b[0;34m(\u001b[0m\u001b[0mself\u001b[0m\u001b[0;34m,\u001b[0m \u001b[0mloc\u001b[0m\u001b[0;34m,\u001b[0m \u001b[0mlabel\u001b[0m\u001b[0;34m)\u001b[0m\u001b[0;34m\u001b[0m\u001b[0;34m\u001b[0m\u001b[0m\n\u001b[1;32m    963\u001b[0m \u001b[0;34m\u001b[0m\u001b[0m\n",
      "\u001b[0;32m/opt/anaconda3/envs/leaspy/lib/python3.7/site-packages/pandas/core/indexes/base.py\u001b[0m in \u001b[0;36mget_loc\u001b[0;34m(self, key, method, tolerance)\u001b[0m\n\u001b[1;32m   3080\u001b[0m                 \u001b[0;32mreturn\u001b[0m \u001b[0mself\u001b[0m\u001b[0;34m.\u001b[0m\u001b[0m_engine\u001b[0m\u001b[0;34m.\u001b[0m\u001b[0mget_loc\u001b[0m\u001b[0;34m(\u001b[0m\u001b[0mcasted_key\u001b[0m\u001b[0;34m)\u001b[0m\u001b[0;34m\u001b[0m\u001b[0;34m\u001b[0m\u001b[0m\n\u001b[1;32m   3081\u001b[0m             \u001b[0;32mexcept\u001b[0m \u001b[0mKeyError\u001b[0m \u001b[0;32mas\u001b[0m \u001b[0merr\u001b[0m\u001b[0;34m:\u001b[0m\u001b[0;34m\u001b[0m\u001b[0;34m\u001b[0m\u001b[0m\n\u001b[0;32m-> 3082\u001b[0;31m                 \u001b[0;32mraise\u001b[0m \u001b[0mKeyError\u001b[0m\u001b[0;34m(\u001b[0m\u001b[0mkey\u001b[0m\u001b[0;34m)\u001b[0m \u001b[0;32mfrom\u001b[0m \u001b[0merr\u001b[0m\u001b[0;34m\u001b[0m\u001b[0;34m\u001b[0m\u001b[0m\n\u001b[0m\u001b[1;32m   3083\u001b[0m \u001b[0;34m\u001b[0m\u001b[0m\n\u001b[1;32m   3084\u001b[0m         \u001b[0;32mif\u001b[0m \u001b[0mtolerance\u001b[0m \u001b[0;32mis\u001b[0m \u001b[0;32mnot\u001b[0m \u001b[0;32mNone\u001b[0m\u001b[0;34m:\u001b[0m\u001b[0;34m\u001b[0m\u001b[0;34m\u001b[0m\u001b[0m\n",
      "\u001b[0;31mKeyError\u001b[0m: 'DX_seq'"
     ]
    }
   ],
   "source": [
    "print(dADNI.loc[3][\"DX_seq\"])"
   ]
  },
  {
   "cell_type": "code",
   "execution_count": 35,
   "metadata": {},
   "outputs": [
    {
     "output_type": "stream",
     "name": "stdout",
     "text": [
      "(9808, 61)\n(3715, 6)\n666\n"
     ]
    }
   ],
   "source": [
    "alz2_index=dtadpole[\"DX_seq\"].astype(str).str.contains(\"2\")\n",
    "#alz2_index = dtadpole[\"DX_seq\"]==2\n",
    "print(dtadpole.shape)\n",
    "Tadodo=dtadpole[alz2_index]\n",
    "Tadodo=Tadodo[[\"ADAS_TOT13\",\"MMSE_TOT\", \"MES_MRI_HIPPOCAMPUS_ICV\", \"MES_MRI_VENTRICLES_ICV\",\"MES_MRI_ENTORHINAL_ICV\",\"MES_CSF_PTAU\"]]\n",
    "print(Tadodo.shape)\n",
    "#print(set(list(Tadodo[\"Phase\"].values)))\n",
    "print(len(Tadodo.groupby('ID')))\n",
    "os.chdir(\"/Users/samuel.gruffaz/Documents/data\")\n",
    "#Tadodo.to_csv(\"TAD_AILZ_ADAS_MMSE_HIPP_VENT_ENTHO_PTAU.csv\")\n"
   ]
  },
  {
   "cell_type": "code",
   "execution_count": 42,
   "metadata": {},
   "outputs": [
    {
     "output_type": "stream",
     "name": "stdout",
     "text": [
      "{'ADNI1', 'ADNIGO', 'ADNI2', 'ADNI3'}\n783\n(4689, 7)\n"
     ]
    }
   ],
   "source": [
    "alz_index = dADNI[\"DX_seq\"].astype(str).str.contains(\"2\")\n",
    "#alz_index = dADNI[\"DX_seq\"]==2\n",
    "\n",
    "AILZ=dADNI[alz_index]\n",
    "print(set(list(AILZ[\"Phase\"].values)))\n",
    "AILZ1=AILZ[[\"MMSE_TOT\", \"ADAS_TOT13\", \"MES_MRI_HIPPOCAMPUS_ICV\", \"MES_MRI_VENTRICLES_ICV\",\n",
    "             \"MES_MRI_ENTORHINAL_ICV\", \"MES_CSF_PTAU\", \"MES_CSF_ABETA42\"\n",
    "            ] ]\n",
    "print(len(AILZ1.groupby('ID')))\n",
    "print(AILZ1.shape)\n"
   ]
  },
  {
   "cell_type": "code",
   "execution_count": 63,
   "metadata": {},
   "outputs": [
    {
     "output_type": "execute_result",
     "data": {
      "text/plain": [
       "Index(['Phase', 'VISCODE2', 'EXAMDATE', 'YEARS_SINCE_bl', 'DX_seq', 'DX_ffill',\n",
       "       'MES_PET_AV1451_INFCEREBGM_REF_SUVR', 'MES_PET_AV1451_L_ENT_SUVR',\n",
       "       'MES_PET_AV1451_L_ENT_VOL', 'MES_PET_AV1451_R_ENT_SUVR',\n",
       "       ...\n",
       "       'MES_PET_FDG_AVG_TEMPORAL', 'MES_PET_FDG_AVG', 'MES_CSF_TTAU',\n",
       "       'MES_CSF_PTAU', 'MES_CSF_PTAU_TTAU', 'MES_CSF_ABETA42',\n",
       "       'MES_CSF_TTAU_ABETA42', 'MES_CSF_PTAU_ABETA42', 'MES_CSF_ABETA40',\n",
       "       'MES_CSF_ABETA42_40'],\n",
       "      dtype='object', length=364)"
      ]
     },
     "metadata": {},
     "execution_count": 63
    }
   ],
   "source": [
    "AILZ.columns"
   ]
  },
  {
   "cell_type": "code",
   "execution_count": 58,
   "metadata": {},
   "outputs": [
    {
     "output_type": "execute_result",
     "data": {
      "text/plain": [
       "Int64Index([   3,   10,   29,   76,   83,   84,   91,   93,   94,  129,\n",
       "            ...\n",
       "            6264, 6303, 6389, 6545, 6549, 6573, 6601, 6602, 6648, 6655],\n",
       "           dtype='int64', name='ID', length=236)"
      ]
     },
     "metadata": {},
     "execution_count": 58
    }
   ],
   "source": [
    "AILZ2.index.unique('ID')"
   ]
  },
  {
   "cell_type": "code",
   "execution_count": 6,
   "metadata": {},
   "outputs": [],
   "source": [
    "AILZ2.to_csv(\"AILZ_no_filtre.csv\")"
   ]
  },
  {
   "cell_type": "code",
   "execution_count": 62,
   "metadata": {},
   "outputs": [
    {
     "output_type": "stream",
     "name": "stdout",
     "text": [
      "(1438, 6)\n(981, 6)\n"
     ]
    }
   ],
   "source": [
    "AILZ1=AILZ[[\"MMSE_TOT\", \"ADAS_TOT13\", \"AVLT_A1t5_SUM_OK\", \"MES_MRI_HIPPOCAMPUS_ICV\", \"MES_MRI_VENTRICLES_ICV\",\n",
    "             \"MES_MRI_ENTORHINAL_ICV\", \n",
    "            ] ]\n",
    "print(AILZ1.shape)\n",
    "AILZ2=AILZ1.dropna()\n",
    "print(AILZ2.shape)\n",
    "AILZ2.to_csv(\"AILZ_filtre_sansbeta.csv\")"
   ]
  },
  {
   "cell_type": "code",
   "execution_count": 65,
   "metadata": {},
   "outputs": [
    {
     "output_type": "stream",
     "name": "stdout",
     "text": [
      "(1438, 5)\n(1071, 5)\n"
     ]
    }
   ],
   "source": [
    "AILZ1=AILZ[[\"MMSE_TOT\", \"MES_MRI_HIPPOCAMPUS_ICV\", \"MES_MRI_VENTRICLES_ICV\",\n",
    "             \"MES_MRI_ENTORHINAL_ICV\", \"MES_MRI_AMYGDALA_ICV\"\n",
    "            ] ]\n",
    "print(AILZ1.shape)\n",
    "AILZ2=AILZ1.dropna()\n",
    "print(AILZ2.shape)\n",
    "AILZ2.to_csv(\"AILZ_amy_sansbeta.csv\")"
   ]
  },
  {
   "cell_type": "code",
   "execution_count": 19,
   "metadata": {},
   "outputs": [
    {
     "output_type": "stream",
     "name": "stdout",
     "text": [
      "(1438, 4)\n383\n"
     ]
    }
   ],
   "source": [
    "AILZ1=AILZ[[\"MES_MRI_HIPPOCAMPUS_ICV\", \"MES_MRI_VENTRICLES_ICV\",\n",
    "             \"MES_MRI_ENTORHINAL_ICV\", \"MES_MRI_AMYGDALA_ICV\"\n",
    "            ] ]\n",
    "print(AILZ1.shape)\n",
    "AILZ2=AILZ1.dropna()\n",
    "print(len(AILZ2.groupby('ID')))\n",
    "\n",
    "AILZ2.to_csv(\"AILZ_atro.csv\")"
   ]
  },
  {
   "cell_type": "code",
   "execution_count": 43,
   "metadata": {},
   "outputs": [
    {
     "output_type": "stream",
     "name": "stdout",
     "text": [
      "(4689, 4)\n"
     ]
    }
   ],
   "source": [
    "AILZ1=AILZ[[\"MMSE_TOT\", \"MES_MRI_HIPPOCAMPUS_ICV\", \"MES_MRI_VENTRICLES_ICV\",\"ADAS_TOT13\" \n",
    "            ] ]\n",
    "print(AILZ1.shape)\n",
    "#AILZ2=AILZ1.dropna()\n",
    "#print(len(AILZ2.groupby('ID')))\n",
    "#print(AILZ2.shape)\n",
    "AILZ1.to_csv(\"AILZ_MMSE_HIPP_VEN_ADAS.csv\")"
   ]
  },
  {
   "cell_type": "code",
   "execution_count": 28,
   "metadata": {},
   "outputs": [
    {
     "output_type": "stream",
     "name": "stdout",
     "text": [
      "3.8010471204188483\n1.2288840350503603\n10\n2\n"
     ]
    }
   ],
   "source": [
    "#print(AILZ2.index)\n",
    "z=0\n",
    "compt=0\n",
    "L=[]\n",
    "for e in AILZ2.index:\n",
    "    a,b=e\n",
    "    if a!=z:\n",
    "        if compt!=0:\n",
    "            L.append(compt)\n",
    "        z=a\n",
    "        compt=1\n",
    "    compt=compt+1\n",
    "\n",
    "A=np.array(L)\n",
    "\n",
    "print(np.mean(A))\n",
    "print(np.std(A))\n",
    "print(np.max(A))\n",
    "print(np.min(A))\n",
    "    \n",
    "\n"
   ]
  },
  {
   "cell_type": "code",
   "execution_count": null,
   "metadata": {},
   "outputs": [],
   "source": []
  }
 ]
}