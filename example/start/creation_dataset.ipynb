{
 "metadata": {
  "language_info": {
   "codemirror_mode": {
    "name": "ipython",
    "version": 3
   },
   "file_extension": ".py",
   "mimetype": "text/x-python",
   "name": "python",
   "nbconvert_exporter": "python",
   "pygments_lexer": "ipython3",
   "version": "3.7.10"
  },
  "orig_nbformat": 2,
  "kernelspec": {
   "name": "python3",
   "display_name": "Python 3.7.10 64-bit ('leaspy': conda)",
   "metadata": {
    "interpreter": {
     "hash": "7c92d75604757712d7c5511cf8b113dc1d0500c6e1fc03999b09b2bc89386e11"
    }
   }
  }
 },
 "nbformat": 4,
 "nbformat_minor": 2,
 "cells": [
  {
   "cell_type": "code",
   "execution_count": 2,
   "metadata": {},
   "outputs": [],
   "source": [
    "import numpy as np\n",
    "import pandas as pd\n",
    "import torch\n",
    "from scipy.stats import norm\n",
    "import matplotlib.pyplot as plt\n",
    "%matplotlib inline\n",
    "import seaborn as sns\n",
    "\n",
    "\n",
    "import sys, os\n",
    "\n",
    "\n",
    "os.chdir(\"/Users/samuel.gruffaz/Documents/PEcollab\")\n",
    "\n",
    "from leaspy.api import Leaspy\n",
    "\n",
    "from leaspy import Leaspy, Data, AlgorithmSettings, Plotter, Dataset, IndividualParameters\n",
    "from leaspy.models.utils.attributes.attributes_factory import AttributesFactory\n",
    "from leaspy.algo.algo_factory import AlgoFactory\n",
    "from leaspy.utils.visualisation.visual_update_b import *"
   ]
  },
  {
   "source": [
    "max benton 30\n",
    "HVLT 60 MOCA 30 SCOPA-AUT 73 ADL 100\n"
   ],
   "cell_type": "markdown",
   "metadata": {}
  },
  {
   "cell_type": "code",
   "execution_count": 61,
   "metadata": {},
   "outputs": [],
   "source": [
    "\n",
    "os.chdir(\"/Users/samuel.gruffaz/Documents/data\")\n",
    "\n",
    "dHVLT=pd.read_csv(\"HVLT.csv\").set_index(['ID', 'TIME'])\n",
    "dMOCA=pd.read_csv(\"MOCA.csv\").set_index(['ID', 'TIME'])\n",
    "dSCOPAAUT=pd.read_csv(\"SCOPA-AUT.csv\").set_index(['ID', 'TIME'])\n",
    "dBenton=pd.read_csv(\"Benton_JLO.csv\").set_index(['ID', 'TIME'])\n",
    "dADL=pd.read_csv(\"Schwab_and_England_ADL.csv\").set_index(['ID', 'TIME'])"
   ]
  },
  {
   "cell_type": "code",
   "execution_count": 62,
   "metadata": {},
   "outputs": [
    {
     "output_type": "stream",
     "name": "stdout",
     "text": [
      "Index(['HVLT_TOTAL', 'HVLT_1', 'HVLT_2', 'HVLT_3', 'HVLT_4', 'HVLT_5'], dtype='object')\nIndex(['MOCA_TOTAL'], dtype='object')\nIndex(['SCOPA_TOTAL', 'SCOPA_1', 'SCOPA_2', 'SCOPA_3', 'SCOPA_4', 'SCOPA_5',\n       'SCOPA_6', 'SCOPA_7', 'SCOPA_8', 'SCOPA_9', 'SCOPA_10', 'SCOPA_11',\n       'SCOPA_12', 'SCOPA_13', 'SCOPA_14', 'SCOPA_15', 'SCOPA_16', 'SCOPA_17',\n       'SCOPA_18', 'SCOPA_19', 'SCOPA_20', 'SCOPA_21', 'SCOPA_22', 'SCOPA_23',\n       'SCOPA_24', 'SCOPA_25', 'SCOPA_26'],\n      dtype='object')\nIndex(['BENTON_JLO'], dtype='object')\nIndex(['SCHWAB_AND_ENGLAND'], dtype='object')\n"
     ]
    }
   ],
   "source": [
    "print(dHVLT.columns)\n",
    "print(dMOCA.columns)\n",
    "print(dSCOPAAUT.columns)\n",
    "print(dBenton.columns)\n",
    "print(dADL.columns)\n",
    "dADL['SCHWAB_AND_ENGLAND']=1-dADL['SCHWAB_AND_ENGLAND']/100.\n",
    "dBenton['BENTON_JLO']=1-dBenton['BENTON_JLO']/30.\n",
    "dMOCA['MOCA_TOTAL']=1-dMOCA['MOCA_TOTAL']/30.\n",
    "dHVLT['HVLT_TOTAL']=1-dHVLT['HVLT_TOTAL']/60.\n",
    "dSCOPAAUT['SCOPA_TOTAL']=dSCOPAAUT['SCOPA_TOTAL']/73.0"
   ]
  },
  {
   "cell_type": "code",
   "execution_count": 63,
   "metadata": {},
   "outputs": [],
   "source": [
    "dHVLTtot=dHVLT.drop(['HVLT_1', 'HVLT_2', 'HVLT_3', 'HVLT_4',\n",
    "       'HVLT_5'],axis=1)\n",
    "dSCOPAAUTtot=dSCOPAAUT.drop(['SCOPA_1', 'SCOPA_2', 'SCOPA_3', 'SCOPA_4',\n",
    "       'SCOPA_5', 'SCOPA_6', 'SCOPA_7', 'SCOPA_8', 'SCOPA_9', 'SCOPA_10',\n",
    "       'SCOPA_11', 'SCOPA_12', 'SCOPA_13', 'SCOPA_14', 'SCOPA_15', 'SCOPA_16',\n",
    "       'SCOPA_17', 'SCOPA_18', 'SCOPA_19', 'SCOPA_20', 'SCOPA_21', 'SCOPA_22',\n",
    "       'SCOPA_23', 'SCOPA_24', 'SCOPA_25', 'SCOPA_26'],axis=1)\n"
   ]
  },
  {
   "cell_type": "code",
   "execution_count": 64,
   "metadata": {},
   "outputs": [
    {
     "output_type": "stream",
     "name": "stdout",
     "text": [
      "                SCOPA_TOTAL\nID   TIME                  \n3000 70.123631     0.082192\n     71.123631     0.123288\n     72.123631     0.123288\n     73.123631     0.109589\n     74.123631     0.164384\n                BENTON_JLO\nID   TIME                 \n3000 70.123631    0.000000\n     71.123631    0.000000\n     72.123631    0.066667\n     73.123631    0.133333\n     74.123631    0.066667\n                HVLT_TOTAL  HVLT_1  HVLT_2  HVLT_3  HVLT_4  HVLT_5\nID   TIME                                                         \n3000 70.123631    0.133333     8.0    11.0    11.0    10.0    12.0\n     71.123631    0.216667     7.0     9.0    10.0    10.0    11.0\n     72.123631    0.166667     6.0    11.0    11.0    10.0    12.0\n     73.123631    0.150000     7.0    10.0    11.0    11.0    12.0\n     74.123631    0.133333     8.0    12.0    10.0    10.0    12.0\n     75.123631    0.166667     9.0    10.0    10.0    10.0    11.0\n     77.123631         NaN     5.0    10.0    11.0    10.0     NaN\n     78.123631    0.233333     7.0    10.0    11.0     7.0    11.0\n3001 65.209189    0.150000     9.0    10.0     8.0    12.0    12.0\n     66.209189    0.200000     6.0     9.0    11.0    10.0    12.0\n                MOCA_TOTAL\nID   TIME                 \n3000 69.998631    0.100000\n     71.123631    0.033333\n     72.123631    0.066667\n     73.123631    0.000000\n     74.123631    0.033333\n     75.123631    0.100000\n     77.123631    0.133333\n     78.123631    0.066667\n3001 65.084189    0.033333\n     66.209189    0.000000\n     67.209189    0.000000\n     68.209189    0.033333\n     69.209189    0.033333\n     70.209189    0.033333\n     72.209189    0.000000\n     73.209189    0.000000\n3002 68.161533    0.033333\n     69.286533    0.033333\n     70.286533    0.033333\n     71.286533    0.100000\n     72.286533    0.200000\n     73.286533    0.100000\n     75.286533    0.133333\n     76.286533    0.066667\n3003 57.160849    0.166667\n     58.285849    0.066667\n     59.285849    0.100000\n     60.285849    0.100000\n     61.285849    0.066667\n     62.285849    0.100000\n                SCHWAB_AND_ENGLAND\nID   TIME                         \n3001 65.084189                0.05\n     65.209189                0.05\n     65.459189                0.05\n     65.709189                0.05\n     65.959189                0.10\n     66.209189                0.05\n     66.709189                0.05\n     67.209189                0.05\n     67.709189                0.05\n     68.209189                0.05\n     68.709189                0.15\n     69.209189                0.10\n     69.709189                0.05\n     70.209189                0.10\n     72.209189                0.10\n     73.209189                0.15\n3002 68.161533                0.20\n     68.286533                0.20\n     68.536533                0.10\n     69.036533                0.15\n     69.286533                0.10\n     69.786533                0.10\n     70.286533                0.20\n     70.786533                0.15\n     71.286533                0.20\n     71.786533                0.20\n     72.286533                0.20\n     72.786533                0.20\n     73.286533                0.15\n     75.286533                0.25\n"
     ]
    }
   ],
   "source": [
    "print(dSCOPAAUTtot.head(5))\n",
    "print(dBenton.head(5))\n",
    "print(dHVLT.head(10))\n",
    "print(dMOCA.head(30))\n",
    "print(dADL.head(30))"
   ]
  },
  {
   "cell_type": "code",
   "execution_count": 65,
   "metadata": {},
   "outputs": [],
   "source": [
    "dJoin=dHVLTtot.join(dSCOPAAUTtot,on=['ID','TIME'])\n",
    "dJoin1=dJoin.join(dMOCA,on=['ID','TIME'])\n",
    "dJoin2=dJoin1.join(dBenton,on=['ID','TIME'])\n",
    "dJoin3=dJoin2.join(dADL,on=['ID','TIME'])"
   ]
  },
  {
   "cell_type": "code",
   "execution_count": null,
   "metadata": {},
   "outputs": [],
   "source": [
    "df = df.set_index(['ID', 'TIME'])\n",
    "indices = [idx for idx in df.index.unique('ID') if df.loc[idx].shape[0] >= 2]\n",
    "df = df[df.index.get_level_values(0).isin(indices)]"
   ]
  },
  {
   "cell_type": "code",
   "execution_count": 38,
   "metadata": {},
   "outputs": [
    {
     "output_type": "stream",
     "name": "stdout",
     "text": [
      "                HVLT_TOTAL  SCOPA_TOTAL  MOCA_TOTAL  BENTON_JLO  \\\nID   TIME                                                         \n3000 70.123631    0.866667     0.082192         NaN    1.000000   \n     71.123631    0.783333     0.123288    0.966667    1.000000   \n     72.123631    0.833333     0.123288    0.933333    0.933333   \n     73.123631    0.850000     0.109589    1.000000    0.866667   \n\n                SCHWAB_AND_ENGLAND  \nID   TIME                           \n3000 70.123631                 NaN  \n     71.123631                 NaN  \n     72.123631                 NaN  \n     73.123631                 NaN  \n"
     ]
    }
   ],
   "source": [
    "print(dJoin3.head(4))"
   ]
  },
  {
   "cell_type": "code",
   "execution_count": 45,
   "metadata": {},
   "outputs": [
    {
     "output_type": "stream",
     "name": "stdout",
     "text": [
      "(6915, 5)\n"
     ]
    }
   ],
   "source": [
    "print(dJoin3.shape)"
   ]
  },
  {
   "cell_type": "code",
   "execution_count": 66,
   "metadata": {},
   "outputs": [],
   "source": [
    "dJoinDropNan=dJoin3.dropna()"
   ]
  },
  {
   "cell_type": "code",
   "execution_count": 44,
   "metadata": {},
   "outputs": [
    {
     "output_type": "stream",
     "name": "stdout",
     "text": [
      "(3301, 5)\n"
     ]
    }
   ],
   "source": [
    "print(dJoinDropNan.shape)"
   ]
  },
  {
   "cell_type": "code",
   "execution_count": 67,
   "metadata": {},
   "outputs": [],
   "source": [
    "dJoinDropNan.to_csv(\"Join5score.csv\")"
   ]
  },
  {
   "cell_type": "code",
   "execution_count": null,
   "metadata": {},
   "outputs": [],
   "source": []
  }
 ]
}