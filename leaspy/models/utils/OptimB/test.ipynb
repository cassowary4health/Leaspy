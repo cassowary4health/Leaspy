{
 "metadata": {
  "language_info": {
   "codemirror_mode": {
    "name": "ipython",
    "version": 3
   },
   "file_extension": ".py",
   "mimetype": "text/x-python",
   "name": "python",
   "nbconvert_exporter": "python",
   "pygments_lexer": "ipython3",
   "version": "3.7.10"
  },
  "orig_nbformat": 2,
  "kernelspec": {
   "name": "python3",
   "display_name": "Python 3",
   "language": "python"
  }
 },
 "nbformat": 4,
 "nbformat_minor": 2,
 "cells": [
  {
   "cell_type": "code",
   "execution_count": 1,
   "metadata": {},
   "outputs": [],
   "source": [
    "import torch\n",
    "import numpy as np"
   ]
  },
  {
   "cell_type": "code",
   "execution_count": 17,
   "metadata": {},
   "outputs": [
    {
     "output_type": "stream",
     "name": "stdout",
     "text": [
      "tensor([[[nan, nan],\n         [3., 4.]],\n\n        [[2., 2.],\n         [1., 2.]]])\ntensor([[   nan, 5.0000],\n        [2.8284, 2.2361]])\n"
     ]
    }
   ],
   "source": [
    "T=[[[float(\"NaN\"),float(\"NaN\")],[3.0,4.0]],[[2.0,2.0],[1.0,2.0]]]\n",
    "V=torch.tensor(T)\n",
    "print(V)\n",
    "print(torch.norm(V,p=2,dim=2))"
   ]
  },
  {
   "cell_type": "code",
   "execution_count": 19,
   "metadata": {},
   "outputs": [
    {
     "output_type": "execute_result",
     "data": {
      "text/plain": [
       "tensor([[3., 4.],\n",
       "        [2., 2.],\n",
       "        [1., 2.]])"
      ]
     },
     "metadata": {},
     "execution_count": 19
    }
   ],
   "source": [
    "V[V==V].reshape(3,2)"
   ]
  },
  {
   "cell_type": "code",
   "execution_count": 13,
   "metadata": {},
   "outputs": [
    {
     "output_type": "execute_result",
     "data": {
      "text/plain": [
       "tensor([2., 1., 2., 2., 2., 1., 2.])"
      ]
     },
     "metadata": {},
     "execution_count": 13
    }
   ],
   "source": [
    "V[V==V].flatten()"
   ]
  },
  {
   "cell_type": "code",
   "execution_count": 60,
   "metadata": {},
   "outputs": [
    {
     "output_type": "stream",
     "name": "stdout",
     "text": [
      "[[[3. 2.]\n  [3. 2.]]\n\n [[1. 2.]\n  [1. 2.]]]\n"
     ]
    }
   ],
   "source": [
    "S=[[3.0,2.0],[1.0,2.0]]\n",
    "g=torch.tensor(S).unsqueeze(-2).numpy()\n",
    "\n",
    "Z=torch.ones(2).reshape((-1,1)).numpy()\n",
    "\n",
    "print(np.transpose(np.kron(Z,g),axes=(0,1,2)))"
   ]
  },
  {
   "cell_type": "code",
   "execution_count": 65,
   "metadata": {},
   "outputs": [
    {
     "output_type": "execute_result",
     "data": {
      "text/plain": [
       "array([[4., 4.]], dtype=float32)"
      ]
     },
     "metadata": {},
     "execution_count": 65
    }
   ],
   "source": [
    "np.sum(g,axis=0)"
   ]
  },
  {
   "cell_type": "code",
   "execution_count": 66,
   "metadata": {},
   "outputs": [
    {
     "output_type": "stream",
     "name": "stdout",
     "text": [
      "tensor([8.3000, 8.2000])\n"
     ]
    }
   ],
   "source": [
    "D=torch.tensor(S)\n",
    "\n",
    "V=torch.tensor([2.1,2.0])\n",
    "\n",
    "print(torch.matmul(V,D))"
   ]
  },
  {
   "cell_type": "code",
   "execution_count": null,
   "metadata": {},
   "outputs": [],
   "source": []
  }
 ]
}