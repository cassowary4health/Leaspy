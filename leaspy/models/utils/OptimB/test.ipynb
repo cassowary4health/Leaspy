{
 "metadata": {
  "language_info": {
   "codemirror_mode": {
    "name": "ipython",
    "version": 3
   },
   "file_extension": ".py",
   "mimetype": "text/x-python",
   "name": "python",
   "nbconvert_exporter": "python",
   "pygments_lexer": "ipython3",
   "version": "3.7.10"
  },
  "orig_nbformat": 2,
  "kernelspec": {
   "name": "python3",
   "display_name": "Python 3",
   "language": "python"
  }
 },
 "nbformat": 4,
 "nbformat_minor": 2,
 "cells": [
  {
   "cell_type": "code",
   "execution_count": 1,
   "metadata": {},
   "outputs": [],
   "source": [
    "import torch\n",
    "import numpy as np"
   ]
  },
  {
   "cell_type": "code",
   "execution_count": 2,
   "metadata": {},
   "outputs": [
    {
     "output_type": "stream",
     "name": "stdout",
     "text": [
      "tensor([[[nan, nan],\n         [3., 4.]],\n\n        [[2., 2.],\n         [1., 2.]]])\ntensor([[   nan, 5.0000],\n        [2.8284, 2.2361]])\n"
     ]
    }
   ],
   "source": [
    "T=[[[float(\"NaN\"),float(\"NaN\")],[3.0,4.0]],[[2.0,2.0],[1.0,2.0]]]\n",
    "V=torch.tensor(T)\n",
    "print(V)\n",
    "print(torch.norm(V,p=2,dim=2))"
   ]
  },
  {
   "cell_type": "code",
   "execution_count": 19,
   "metadata": {},
   "outputs": [
    {
     "output_type": "execute_result",
     "data": {
      "text/plain": [
       "tensor([[3., 4.],\n",
       "        [2., 2.],\n",
       "        [1., 2.]])"
      ]
     },
     "metadata": {},
     "execution_count": 19
    }
   ],
   "source": [
    "V[V==V].reshape(3,2)"
   ]
  },
  {
   "cell_type": "code",
   "execution_count": 21,
   "metadata": {},
   "outputs": [],
   "source": [
    "T=[[[1.0,float(\"NaN\")],[3.0,4.0]],[[2.0,2.0],[1.0,2.0]]]\n",
    "V=torch.tensor(T)"
   ]
  },
  {
   "cell_type": "code",
   "execution_count": 28,
   "metadata": {},
   "outputs": [
    {
     "output_type": "stream",
     "name": "stdout",
     "text": [
      "tensor([[False,  True],\n        [ True,  True]])\n"
     ]
    },
    {
     "output_type": "execute_result",
     "data": {
      "text/plain": [
       "tensor([[3., 4.],\n",
       "        [2., 2.],\n",
       "        [1., 2.]])"
      ]
     },
     "metadata": {},
     "execution_count": 28
    }
   ],
   "source": [
    "Z=(V==V).all(axis=2)\n",
    "print(Z)\n",
    "\n",
    "V[Z]"
   ]
  },
  {
   "cell_type": "code",
   "execution_count": 35,
   "metadata": {},
   "outputs": [],
   "source": [
    "T=[[[1.0,float(\"NaN\")],[float(\"NaN\"),float(\"NaN\")]],[[2.0,2.0],[1.0,2.0]]]\n",
    "V=torch.tensor(T)\n",
    "XT=V"
   ]
  },
  {
   "cell_type": "code",
   "execution_count": 36,
   "metadata": {},
   "outputs": [
    {
     "output_type": "execute_result",
     "data": {
      "text/plain": [
       "tensor([[ True, False],\n",
       "        [False, False]])"
      ]
     },
     "metadata": {},
     "execution_count": 36
    }
   ],
   "source": [
    "(XT!=XT).any(axis=2)*(XT==XT).any(axis=2)"
   ]
  },
  {
   "cell_type": "code",
   "execution_count": 60,
   "metadata": {},
   "outputs": [
    {
     "output_type": "stream",
     "name": "stdout",
     "text": [
      "[[[3. 2.]\n  [3. 2.]]\n\n [[1. 2.]\n  [1. 2.]]]\n"
     ]
    }
   ],
   "source": [
    "S=[[3.0,2.0],[1.0,2.0]]\n",
    "g=torch.tensor(S).unsqueeze(-2).numpy()\n",
    "\n",
    "Z=torch.ones(2).reshape((-1,1)).numpy()\n",
    "\n",
    "print(np.transpose(np.kron(Z,g),axes=(0,1,2)))"
   ]
  },
  {
   "cell_type": "code",
   "execution_count": 65,
   "metadata": {},
   "outputs": [
    {
     "output_type": "execute_result",
     "data": {
      "text/plain": [
       "array([[4., 4.]], dtype=float32)"
      ]
     },
     "metadata": {},
     "execution_count": 65
    }
   ],
   "source": [
    "np.sum(g,axis=0)"
   ]
  },
  {
   "cell_type": "code",
   "execution_count": 66,
   "metadata": {},
   "outputs": [
    {
     "output_type": "stream",
     "name": "stdout",
     "text": [
      "tensor([8.3000, 8.2000])\n"
     ]
    }
   ],
   "source": [
    "D=torch.tensor(S)\n",
    "\n",
    "V=torch.tensor([2.1,2.0])\n",
    "\n",
    "print(torch.matmul(V,D))"
   ]
  },
  {
   "cell_type": "code",
   "execution_count": 5,
   "metadata": {},
   "outputs": [],
   "source": [
    "def FiltreNanHomogène(XT,Y):\n",
    "    \"\"\"\n",
    "    Prend en entrée XT (nb_patient,nb_visit_max,dim) et retourne X sous la forme (nb_visit,dim)\n",
    "\n",
    "    Si un vecteur contient un Nan dans ses coordonnées on le retire\n",
    "\n",
    "    \"\"\"\n",
    "\n",
    "\n",
    "    Select=((XT==XT).all(axis=2))*(Y==Y).all(axis=2)#fonctionne bien voir notebook test pour se convaincre\n",
    "    \n",
    "    return XT[Select],Y[Select]"
   ]
  },
  {
   "cell_type": "code",
   "execution_count": 9,
   "metadata": {},
   "outputs": [],
   "source": [
    "X,Y=FiltreNanHomogène(V,V)"
   ]
  },
  {
   "cell_type": "code",
   "execution_count": 7,
   "metadata": {},
   "outputs": [],
   "source": [
    "def Sub_sampling(X,k):\n",
    "    \"\"\"\n",
    "    Prend X le tensor (nb_visite,dim) et sélectionne k points bien espacé renvoyé dans un tensor (k,dim)\n",
    "\n",
    "\n",
    "    \"\"\"\n",
    "    Center,index=kmeans_plus_plus(X.numpy(), k)\n",
    "    return torch.from_numpy(Center),index"
   ]
  },
  {
   "cell_type": "code",
   "execution_count": 27,
   "metadata": {},
   "outputs": [
    {
     "output_type": "execute_result",
     "data": {
      "text/plain": [
       "tensor([[[3., 4.],\n",
       "         [2., 2.],\n",
       "         [1., 2.]],\n",
       "\n",
       "        [[3., 4.],\n",
       "         [2., 2.],\n",
       "         [1., 2.]],\n",
       "\n",
       "        [[3., 4.],\n",
       "         [2., 2.],\n",
       "         [1., 2.]]])"
      ]
     },
     "metadata": {},
     "execution_count": 27
    }
   ],
   "source": [
    "X.repeat(3,1,1)"
   ]
  },
  {
   "cell_type": "code",
   "execution_count": 34,
   "metadata": {},
   "outputs": [],
   "source": [
    "def Matrix(X,Xgrand,meta_settings):\n",
    "    \"\"\"\n",
    "    X est la donnée des points de controles un tensor de la forme (k,nb_dim) (k nombre de visite après subsampling), kernelname le nom du noyau à utiliser\n",
    "    cette fonction renvoie la matrice K_X=(k(x_i,x_j)) i <nb_visit+1, j<k+1\n",
    "    On a Xgrand (nb_visit,nb_dim) les points de controle sans subsampling\n",
    "    \"\"\"\n",
    "    kernelname=meta_settings[\"kernelname\"]\n",
    "    sigma=meta_settings[\"sigma\"]\n",
    "    k=len(X)\n",
    "    nb_visit=len(Xgrand)\n",
    "    \n",
    "    \n",
    "    if kernelname==\"RBF\":#le calcul est fait sans approximations\n",
    "        sigma=meta_settings[\"sigma\"]\n",
    "        \n",
    "\n",
    "        PA1=Xgrand.repeat(k,1,1)\n",
    "        PA2=X.repeat(nb_visit,1,1).permute(1,0,2)\n",
    "\n",
    "        PA3=PA1-PA2\n",
    "\n",
    "        K_X=torch.exp(-torch.norm(PA3,dim=2)**2/(2*sigma**2))\n",
    "    else:\n",
    "        raise ValueError(\"Le nom de noyau est mauvais ! \")\n",
    "\n",
    "    return K_X"
   ]
  },
  {
   "cell_type": "code",
   "execution_count": 35,
   "metadata": {},
   "outputs": [
    {
     "output_type": "execute_result",
     "data": {
      "text/plain": [
       "tensor([[1.0000, 0.5353],\n",
       "        [0.5353, 1.0000],\n",
       "        [0.3679, 0.8825]], dtype=torch.float64)"
      ]
     },
     "metadata": {},
     "execution_count": 35
    }
   ],
   "source": [
    "Matrix(X,A,{\"sigma\":2.0,\"kernelname\":\"RBF\"})"
   ]
  },
  {
   "cell_type": "code",
   "execution_count": 42,
   "metadata": {},
   "outputs": [
    {
     "output_type": "stream",
     "name": "stdout",
     "text": [
      "tensor([[3., 4.],\n        [2., 2.]], dtype=torch.float64)\ntensor([[3., 2.],\n        [4., 2.]], dtype=torch.float64)\n"
     ]
    }
   ],
   "source": [
    "X1=X.repeat(2,1,1).permute(1,0,2)\n",
    "\n",
    "X2=A.repeat(3,1,1)\n",
    "\n",
    "\n",
    "\n",
    "\n",
    "\n",
    "print(A)\n",
    "\n",
    "print(A.transpose(0,1))"
   ]
  },
  {
   "cell_type": "code",
   "execution_count": 20,
   "metadata": {},
   "outputs": [],
   "source": [
    "def dist(data, centers):\n",
    "    distance = np.sum((np.array(centers) - data[:, None, :])**2, axis = 2)\n",
    "    return distance\n",
    "def kmeans_plus_plus(X, k):\n",
    "    '''Initialize one point at random.\n",
    "    loop for k - 1 iterations:\n",
    "        Next, calculate for each point the distance of the point from its nearest center. Sample a point with a \n",
    "        probability proportional to the square of the distance of the point from its nearest center.'''\n",
    "    centers = []\n",
    "    index=[]\n",
    "    \n",
    "    # Sample the first point\n",
    "    initial_index = np.random.choice(range(X.shape[0]), )\n",
    "    index.append(initial_index)\n",
    "    centers.append(X[initial_index, :].tolist())\n",
    "    \n",
    "    print('max: ', np.max(np.sum((X - np.array(centers))**2)))\n",
    "    \n",
    "    # Loop and select the remaining points\n",
    "    for i in range(k - 1):\n",
    "        print(i)\n",
    "        distance = dist(X, np.array(centers))\n",
    "        \n",
    "        if i == 0:\n",
    "            pdf = distance/np.sum(distance)\n",
    "            indexcour=np.random.choice(range(X.shape[0]), replace = False, p = pdf.flatten())\n",
    "            centroid_new = X[indexcour]\n",
    "            index.append(indexcour)\n",
    "        else:\n",
    "            # Calculate the distance of each point from its nearest centroid\n",
    "            dist_min = np.min(distance, axis = 1)\n",
    "            \n",
    "            pdf = dist_min/np.sum(dist_min)\n",
    "# Sample one point from the given distribution\n",
    "            indexcour=np.random.choice(range(X.shape[0]), replace = False, p = pdf)\n",
    "            centroid_new = X[indexcour]\n",
    "            index.append(indexcour)\n",
    "            \n",
    "\n",
    "        centers.append(centroid_new.tolist())\n",
    "        \n",
    "    return np.array(centers),index"
   ]
  },
  {
   "cell_type": "code",
   "execution_count": 21,
   "metadata": {},
   "outputs": [
    {
     "output_type": "stream",
     "name": "stdout",
     "text": [
      "max:  13.0\n0\ntensor([[3., 4.],\n        [2., 2.]], dtype=torch.float64)\n"
     ]
    }
   ],
   "source": [
    "A,B=Sub_sampling(X,2)\n",
    "\n",
    "print(A)"
   ]
  },
  {
   "cell_type": "code",
   "execution_count": 74,
   "metadata": {},
   "outputs": [],
   "source": [
    "def TransformationB(W,Control,meta_settings):\n",
    "    \"\"\"\n",
    "    Prend en entrée la matrice des poids, et les points de contrôles \"Control\" ainsi que meta_settings pour avoir des\n",
    "    informations sur le noyau, W de forme (nb_controle,nb_features). On renvoie la fonction associée pour update B.\n",
    "\n",
    "    à finir et cheker\n",
    "    \"\"\"\n",
    "    if meta_settings[\"kernelname\"]==\"RBF\":\n",
    "        sigma=meta_settings[\"sigma\"]\n",
    "        def function(x):\n",
    "            nb_dm=len(x.shape)\n",
    "            Control1=Control.unsqueeze(-1)\n",
    "            KK=torch.exp(-torch.norm(Control-x,dim=2)**2/(2*sigma**2))\n",
    "            \n",
    "            Fin=torch.matmul(KK,W.double()).numpy()\n",
    "           \n",
    "            if len(Fin.shape)==0:\n",
    "                return Fin.reshape(1,)\n",
    "            else:\n",
    "                return torch.from_numpy(np.sum(Fin,axis=1))\n",
    "        return function\n",
    "    else:\n",
    "        raise ValueError(\"Le nom de noyau est mauvais ! \")"
   ]
  },
  {
   "cell_type": "code",
   "execution_count": 73,
   "metadata": {},
   "outputs": [
    {
     "output_type": "stream",
     "name": "stdout",
     "text": [
      "tensor([[10.7100, 15.3000],\n        [10.7100, 15.3000]])\ntensor([0.7975, 0.8814], dtype=torch.float64)\ntorch.Size([2, 2])\n[3.52571746 5.03673946]\n"
     ]
    },
    {
     "output_type": "error",
     "ename": "AxisError",
     "evalue": "axis 1 is out of bounds for array of dimension 1",
     "traceback": [
      "\u001b[0;31m---------------------------------------------------------------------------\u001b[0m",
      "\u001b[0;31mAxisError\u001b[0m                                 Traceback (most recent call last)",
      "\u001b[0;32m<ipython-input-73-7d8f1e892bb3>\u001b[0m in \u001b[0;36m<module>\u001b[0;34m\u001b[0m\n\u001b[1;32m      6\u001b[0m \u001b[0;34m\u001b[0m\u001b[0m\n\u001b[1;32m      7\u001b[0m \u001b[0mprint\u001b[0m\u001b[0;34m(\u001b[0m\u001b[0mtorch\u001b[0m\u001b[0;34m.\u001b[0m\u001b[0mmatmul\u001b[0m\u001b[0;34m(\u001b[0m\u001b[0mW\u001b[0m\u001b[0;34m,\u001b[0m\u001b[0mW\u001b[0m\u001b[0;34m)\u001b[0m\u001b[0;34m)\u001b[0m\u001b[0;34m\u001b[0m\u001b[0;34m\u001b[0m\u001b[0m\n\u001b[0;32m----> 8\u001b[0;31m \u001b[0mprint\u001b[0m\u001b[0;34m(\u001b[0m\u001b[0mfonc\u001b[0m\u001b[0;34m(\u001b[0m\u001b[0mW\u001b[0m\u001b[0;34m)\u001b[0m\u001b[0;34m)\u001b[0m\u001b[0;34m\u001b[0m\u001b[0;34m\u001b[0m\u001b[0m\n\u001b[0m",
      "\u001b[0;32m<ipython-input-72-2e9f5efa2c54>\u001b[0m in \u001b[0;36mfunction\u001b[0;34m(x)\u001b[0m\n\u001b[1;32m     16\u001b[0m                 \u001b[0;32mreturn\u001b[0m \u001b[0mFin\u001b[0m\u001b[0;34m.\u001b[0m\u001b[0mreshape\u001b[0m\u001b[0;34m(\u001b[0m\u001b[0;36m1\u001b[0m\u001b[0;34m,\u001b[0m\u001b[0;34m)\u001b[0m\u001b[0;34m\u001b[0m\u001b[0;34m\u001b[0m\u001b[0m\n\u001b[1;32m     17\u001b[0m             \u001b[0;32melse\u001b[0m\u001b[0;34m:\u001b[0m\u001b[0;34m\u001b[0m\u001b[0;34m\u001b[0m\u001b[0m\n\u001b[0;32m---> 18\u001b[0;31m                 \u001b[0;32mreturn\u001b[0m \u001b[0mtorch\u001b[0m\u001b[0;34m.\u001b[0m\u001b[0mfrom_numpy\u001b[0m\u001b[0;34m(\u001b[0m\u001b[0mnp\u001b[0m\u001b[0;34m.\u001b[0m\u001b[0msum\u001b[0m\u001b[0;34m(\u001b[0m\u001b[0mFin\u001b[0m\u001b[0;34m,\u001b[0m\u001b[0maxis\u001b[0m\u001b[0;34m=\u001b[0m\u001b[0;36m1\u001b[0m\u001b[0;34m)\u001b[0m\u001b[0;34m)\u001b[0m\u001b[0;34m\u001b[0m\u001b[0;34m\u001b[0m\u001b[0m\n\u001b[0m\u001b[1;32m     19\u001b[0m         \u001b[0;32mreturn\u001b[0m \u001b[0mfunction\u001b[0m\u001b[0;34m\u001b[0m\u001b[0;34m\u001b[0m\u001b[0m\n\u001b[1;32m     20\u001b[0m     \u001b[0;32melse\u001b[0m\u001b[0;34m:\u001b[0m\u001b[0;34m\u001b[0m\u001b[0;34m\u001b[0m\u001b[0m\n",
      "\u001b[0;32m<__array_function__ internals>\u001b[0m in \u001b[0;36msum\u001b[0;34m(*args, **kwargs)\u001b[0m\n",
      "\u001b[0;32m/opt/anaconda3/envs/leaspy/lib/python3.7/site-packages/numpy/core/fromnumeric.py\u001b[0m in \u001b[0;36msum\u001b[0;34m(a, axis, dtype, out, keepdims, initial, where)\u001b[0m\n\u001b[1;32m   2240\u001b[0m \u001b[0;34m\u001b[0m\u001b[0m\n\u001b[1;32m   2241\u001b[0m     return _wrapreduction(a, np.add, 'sum', axis, dtype, out, keepdims=keepdims,\n\u001b[0;32m-> 2242\u001b[0;31m                           initial=initial, where=where)\n\u001b[0m\u001b[1;32m   2243\u001b[0m \u001b[0;34m\u001b[0m\u001b[0m\n\u001b[1;32m   2244\u001b[0m \u001b[0;34m\u001b[0m\u001b[0m\n",
      "\u001b[0;32m/opt/anaconda3/envs/leaspy/lib/python3.7/site-packages/numpy/core/fromnumeric.py\u001b[0m in \u001b[0;36m_wrapreduction\u001b[0;34m(obj, ufunc, method, axis, dtype, out, **kwargs)\u001b[0m\n\u001b[1;32m     85\u001b[0m                 \u001b[0;32mreturn\u001b[0m \u001b[0mreduction\u001b[0m\u001b[0;34m(\u001b[0m\u001b[0maxis\u001b[0m\u001b[0;34m=\u001b[0m\u001b[0maxis\u001b[0m\u001b[0;34m,\u001b[0m \u001b[0mout\u001b[0m\u001b[0;34m=\u001b[0m\u001b[0mout\u001b[0m\u001b[0;34m,\u001b[0m \u001b[0;34m**\u001b[0m\u001b[0mpasskwargs\u001b[0m\u001b[0;34m)\u001b[0m\u001b[0;34m\u001b[0m\u001b[0;34m\u001b[0m\u001b[0m\n\u001b[1;32m     86\u001b[0m \u001b[0;34m\u001b[0m\u001b[0m\n\u001b[0;32m---> 87\u001b[0;31m     \u001b[0;32mreturn\u001b[0m \u001b[0mufunc\u001b[0m\u001b[0;34m.\u001b[0m\u001b[0mreduce\u001b[0m\u001b[0;34m(\u001b[0m\u001b[0mobj\u001b[0m\u001b[0;34m,\u001b[0m \u001b[0maxis\u001b[0m\u001b[0;34m,\u001b[0m \u001b[0mdtype\u001b[0m\u001b[0;34m,\u001b[0m \u001b[0mout\u001b[0m\u001b[0;34m,\u001b[0m \u001b[0;34m**\u001b[0m\u001b[0mpasskwargs\u001b[0m\u001b[0;34m)\u001b[0m\u001b[0;34m\u001b[0m\u001b[0;34m\u001b[0m\u001b[0m\n\u001b[0m\u001b[1;32m     88\u001b[0m \u001b[0;34m\u001b[0m\u001b[0m\n\u001b[1;32m     89\u001b[0m \u001b[0;34m\u001b[0m\u001b[0m\n",
      "\u001b[0;31mAxisError\u001b[0m: axis 1 is out of bounds for array of dimension 1"
     ]
    }
   ],
   "source": [
    "Control=A\n",
    "meta_settings={\"sigma\":2.0,\"kernelname\":\"RBF\"}\n",
    "W=torch.tensor([[2.1,3.0],[2.1,3.0]])\n",
    "\n",
    "fonc=TransformationB(W,Control,meta_settings)\n",
    "\n",
    "print(torch.matmul(W,W))\n",
    "print(fonc(W))"
   ]
  },
  {
   "cell_type": "code",
   "execution_count": null,
   "metadata": {},
   "outputs": [],
   "source": []
  }
 ]
}